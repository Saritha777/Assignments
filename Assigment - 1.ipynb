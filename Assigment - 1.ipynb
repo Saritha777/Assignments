{
 "cells": [
  {
   "cell_type": "markdown",
   "metadata": {},
   "source": [
    "# Even or Odd"
   ]
  },
  {
   "cell_type": "code",
   "execution_count": 1,
   "metadata": {},
   "outputs": [
    {
     "name": "stdout",
     "output_type": "stream",
     "text": [
      "Enter the number : 5\n",
      "5 is Odd\n"
     ]
    }
   ],
   "source": [
    "a=input(\"Enter the number : \")\n",
    "b=int(a)%2\n",
    "\n",
    "if int(b)==0:\n",
    "    print(\"{0} is Even\".format(a))\n",
    "else :\n",
    "    print(\"{0} is Odd\".format(a))"
   ]
  },
  {
   "cell_type": "markdown",
   "metadata": {},
   "source": [
    "# Factorial"
   ]
  },
  {
   "cell_type": "code",
   "execution_count": 2,
   "metadata": {},
   "outputs": [
    {
     "name": "stdout",
     "output_type": "stream",
     "text": [
      "Enter a number : 4\n",
      "Factorial of 4 is 24\n"
     ]
    }
   ],
   "source": [
    "a=int(input(\"Enter a number : \"))\n",
    "fact=1\n",
    "if a>0:\n",
    "    for i in range(1,a+1):\n",
    "        fact=fact*i\n",
    "    print(\"Factorial of {0} is {1}\".format(a,fact))\n",
    "elif a==0:\n",
    "    print(\"Factorial of {0} is 0\".format(a))\n",
    "else :\n",
    "    print(\"Does not have factorial\")"
   ]
  },
  {
   "cell_type": "markdown",
   "metadata": {},
   "source": [
    "# Fibonacci Series"
   ]
  },
  {
   "cell_type": "code",
   "execution_count": 3,
   "metadata": {},
   "outputs": [
    {
     "name": "stdout",
     "output_type": "stream",
     "text": [
      "enter first number : 0\n",
      "enter second number : 1\n",
      "enter length of fibonacci series : 5\n",
      "0\n",
      "1\n",
      "1\n",
      "2\n",
      "3\n",
      "5\n",
      "8\n"
     ]
    }
   ],
   "source": [
    "a=input(\"enter first number : \")\n",
    "b=input(\"enter second number : \")\n",
    "length=input(\"enter length of fibonacci series : \")\n",
    "i=0\n",
    "print(a)\n",
    "print(b)\n",
    "while i<int(length):\n",
    "    c=int(a)+int(b)\n",
    "    print(c)\n",
    "    a=b\n",
    "    #print(a)\n",
    "    b=c\n",
    "    #print(b)\n",
    "    i+=1"
   ]
  },
  {
   "cell_type": "markdown",
   "metadata": {},
   "source": [
    "# Largest Number"
   ]
  },
  {
   "cell_type": "code",
   "execution_count": 4,
   "metadata": {},
   "outputs": [
    {
     "name": "stdout",
     "output_type": "stream",
     "text": [
      "Enter first number : 10\n",
      "Enter second number : 50\n",
      "Enter third number : 5\n",
      "50 is largest\n"
     ]
    }
   ],
   "source": [
    "a=int(input(\"Enter first number : \"))\n",
    "b=int(input(\"Enter second number : \"))\n",
    "c=int(input(\"Enter third number : \"))\n",
    "if a>b and a>c :\n",
    "    print(\"{0} is largest\".format(a))\n",
    "elif b>c :\n",
    "    print(\"{0} is largest\".format(b))\n",
    "else :\n",
    "    print(\"{0} is largest\".format(c))"
   ]
  },
  {
   "cell_type": "markdown",
   "metadata": {},
   "source": [
    "# Leap Year"
   ]
  },
  {
   "cell_type": "code",
   "execution_count": 5,
   "metadata": {},
   "outputs": [
    {
     "name": "stdout",
     "output_type": "stream",
     "text": [
      "enter the year : 2000\n",
      "2000 is leap year\n"
     ]
    }
   ],
   "source": [
    "a=input(\"enter the year : \")\n",
    "b=len(a)\n",
    "#c=int(int(a)%4)\n",
    "if b<=3:\n",
    "    print(\"invalid year\")\n",
    "elif int(a)%4==0 :\n",
    "    if int(a)%100==0:\n",
    "        if int(a)%400==0:\n",
    "            print(\"{0} is leap year\".format(a))\n",
    "        else:\n",
    "            print(\"{0} is not leap year\".format(a))\n",
    "    \n",
    "    else:\n",
    "        print(\"{0} is leap year\".format(a))\n",
    "else:\n",
    "    print(\"{0} is not leap year\".format(a))\n"
   ]
  },
  {
   "cell_type": "markdown",
   "metadata": {},
   "source": [
    "# Multiplication table"
   ]
  },
  {
   "cell_type": "code",
   "execution_count": 6,
   "metadata": {},
   "outputs": [
    {
     "name": "stdout",
     "output_type": "stream",
     "text": [
      "Enter a number : 5\n",
      "5 * 1 = 5\n",
      "5 * 2 = 10\n",
      "5 * 3 = 15\n",
      "5 * 4 = 20\n",
      "5 * 5 = 25\n",
      "5 * 6 = 30\n",
      "5 * 7 = 35\n",
      "5 * 8 = 40\n",
      "5 * 9 = 45\n",
      "5 * 10 = 50\n"
     ]
    }
   ],
   "source": [
    "a=int(input(\"Enter a number : \"))\n",
    "for i in range(1,11):\n",
    "    b=int(a*i)\n",
    "    print(\"{0} * {1} = {2}\".format(a,i,b))"
   ]
  },
  {
   "cell_type": "markdown",
   "metadata": {},
   "source": [
    "# Number of Days in a month"
   ]
  },
  {
   "cell_type": "code",
   "execution_count": 7,
   "metadata": {},
   "outputs": [
    {
     "name": "stdout",
     "output_type": "stream",
     "text": [
      "enter the month : april\n",
      "30 days in this month\n"
     ]
    }
   ],
   "source": [
    "months={'january':'31','february':'28/29','march':'31','april':'30','may':'31','june':'30','july':'31','august':'31','september':'30','october':'31','november':'30','december':'31'}\n",
    "a=input(\"enter the month : \")\n",
    "print(\"{0} days in this month\".format(months[a]))\n",
    "#print(months[a],\"\")"
   ]
  },
  {
   "cell_type": "markdown",
   "metadata": {},
   "source": [
    "# Positive or Negative"
   ]
  },
  {
   "cell_type": "code",
   "execution_count": 8,
   "metadata": {},
   "outputs": [
    {
     "name": "stdout",
     "output_type": "stream",
     "text": [
      "enter a number : -10\n",
      "-10 is negative\n"
     ]
    }
   ],
   "source": [
    "a=int(input(\"enter a number : \"))\n",
    "\n",
    "if a>0 :\n",
    "    print(\"{0} is positive\".format(a))\n",
    "elif a==0:\n",
    "        print(\"{0} is zero\".format(a))\n",
    "else :\n",
    "            print(\"{0} is negative\".format(a))"
   ]
  },
  {
   "cell_type": "markdown",
   "metadata": {},
   "source": [
    "# Prime Number"
   ]
  },
  {
   "cell_type": "code",
   "execution_count": 9,
   "metadata": {},
   "outputs": [
    {
     "name": "stdout",
     "output_type": "stream",
     "text": [
      "enter a number : 5\n",
      "5 is a prime number\n",
      "enter minimum value : 2\n",
      "enter maximum value : 10\n",
      "2\n",
      "3\n",
      "5\n",
      "7\n"
     ]
    }
   ],
   "source": [
    "a=int(input(\"enter a number : \"))\n",
    "\n",
    "if a>1:\n",
    "    for i in range(2,a):\n",
    "        if (a%i)==0:\n",
    "            print(a,\"not a prime number\")\n",
    "            break\n",
    "    else:\n",
    "        print(a,\"is a prime number\")\n",
    "else:\n",
    "    print(a,\"is not a prime number\")\n",
    "    \n",
    "x=int(input(\"enter minimum value : \"))\n",
    "y=int(input(\"enter maximum value : \"))\n",
    "\n",
    "for i in range(x,y+1):\n",
    "    if i>1:\n",
    "        for j in range(2,i):\n",
    "            if(i%j)==0:\n",
    "                break\n",
    "        else:\n",
    "            print(i)\n"
   ]
  },
  {
   "cell_type": "markdown",
   "metadata": {},
   "source": [
    "# Sum of Natural Numbers"
   ]
  },
  {
   "cell_type": "code",
   "execution_count": 10,
   "metadata": {},
   "outputs": [
    {
     "name": "stdout",
     "output_type": "stream",
     "text": [
      "Enter the number : 10\n",
      "55\n"
     ]
    }
   ],
   "source": [
    "n=int(input(\"Enter the number : \"))\n",
    "a=int(n%2)\n",
    "#print(a)\n",
    "if a==1:\n",
    "    print(n*((n+1)//2))\n",
    "else :\n",
    "    print(int(n*((n+1)/2)))"
   ]
  }
 ],
 "metadata": {
  "kernelspec": {
   "display_name": "Python 3",
   "language": "python",
   "name": "python3"
  },
  "language_info": {
   "codemirror_mode": {
    "name": "ipython",
    "version": 3
   },
   "file_extension": ".py",
   "mimetype": "text/x-python",
   "name": "python",
   "nbconvert_exporter": "python",
   "pygments_lexer": "ipython3",
   "version": "3.6.4"
  }
 },
 "nbformat": 4,
 "nbformat_minor": 2
}
